{
  "nbformat": 4,
  "nbformat_minor": 0,
  "metadata": {
    "colab": {
      "name": "Weekly Challenge 3.ipynb",
      "provenance": [],
      "collapsed_sections": [],
      "authorship_tag": "ABX9TyOl8CU+2ZqDf5xIfT0/q5+3",
      "include_colab_link": true
    },
    "kernelspec": {
      "name": "python3",
      "display_name": "Python 3"
    }
  },
  "cells": [
    {
      "cell_type": "markdown",
      "metadata": {
        "id": "view-in-github",
        "colab_type": "text"
      },
      "source": [
        "<a href=\"https://colab.research.google.com/github/mikeyj777/Discord_Programmers_Unite_Weekly_Challenge/blob/master/Weekly_Challenge_3.ipynb\" target=\"_parent\"><img src=\"https://colab.research.google.com/assets/colab-badge.svg\" alt=\"Open In Colab\"/></a>"
      ]
    },
    {
      "cell_type": "code",
      "metadata": {
        "id": "EQ2k4n365ktJ",
        "colab_type": "code",
        "colab": {}
      },
      "source": [
        "import numpy as np\n",
        "import math"
      ],
      "execution_count": null,
      "outputs": []
    },
    {
      "cell_type": "code",
      "metadata": {
        "id": "bnhtkzXq5txu",
        "colab_type": "code",
        "colab": {}
      },
      "source": [
        "#taking advantage of the numpy transpose function so that neither Rick nor \n",
        "#Morty need their individual encode or decode method.  Both can use the same\n",
        "#method.  \n",
        "\n",
        "#The only thing to track is if the message is the original msg to be encoded.\n",
        "#Transposed matrices will only have the same dimensions as the original\n",
        "#if the message length happens to be square.\n",
        "\n",
        "def encode_decode(inmsg, original = True):\n",
        "    inmsg = inmsg.replace(' ', '')\n",
        "\n",
        "    rows = math.floor(math.sqrt(len(inmsg)))\n",
        "\n",
        "    cols = math.ceil(math.sqrt(len(inmsg)))\n",
        "\n",
        "    if rows * cols < len(inmsg):\n",
        "        rows += 1\n",
        "\n",
        "    if not original:\n",
        "        temp = cols\n",
        "        cols = rows\n",
        "        rows = temp\n",
        "\n",
        "    grid = np.empty(shape=(rows,cols), dtype=object)\n",
        "\n",
        "    currlocn = 0\n",
        "\n",
        "    for i in range(grid.shape[0]):\n",
        "        for j in range(grid.shape[1]):\n",
        "            if currlocn < len(inmsg):\n",
        "                grid[i][j] = inmsg[currlocn]\n",
        "                currlocn += 1\n",
        "    \n",
        "    grid = grid.T\n",
        "\n",
        "    flat = grid.flatten()\n",
        "\n",
        "    outbound = flat.tolist()\n",
        "    \n",
        "    outbound = ''.join([str(ch) if ch is not None else '' for ch in outbound])\n",
        "\n",
        "    if original:\n",
        "        i = 0\n",
        "        while i < len(outbound):\n",
        "            if i % (cols+1) == 0:\n",
        "                outbound = outbound[0:i] + ' ' + \\\n",
        "                    outbound[i-len(outbound):]\n",
        "            i += 1\n",
        "\n",
        "    return outbound"
      ],
      "execution_count": null,
      "outputs": []
    },
    {
      "cell_type": "code",
      "metadata": {
        "id": "cOmzIiA-5vAR",
        "colab_type": "code",
        "colab": {
          "base_uri": "https://localhost:8080/",
          "height": 70
        },
        "outputId": "2fe49827-26cb-43d7-faa3-f071891fe695"
      },
      "source": [
        "inmsg = input('What is your text?  ')\n",
        "\n",
        "encoded = encode_decode(inmsg)\n",
        "\n",
        "print(\"Encoded:  \", encoded)\n",
        "\n",
        "decoded = encode_decode(encoded, False)\n",
        "\n",
        "print(\"Decode:  \", decoded)"
      ],
      "execution_count": null,
      "outputs": [
        {
          "output_type": "stream",
          "text": [
            "What is your text?  beep boop blahdeeblah\n",
            "Encoded:    boabe ohlep dapbe hble\n",
            "Decode:   beepboopblahdeeblah\n"
          ],
          "name": "stdout"
        }
      ]
    }
  ]
}